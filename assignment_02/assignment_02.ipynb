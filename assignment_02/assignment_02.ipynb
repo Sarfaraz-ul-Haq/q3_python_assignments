{
 "cells": [
  {
   "cell_type": "code",
   "execution_count": 6,
   "metadata": {},
   "outputs": [
    {
     "name": "stdout",
     "output_type": "stream",
     "text": [
      "The sum of num1 and num2 is 1000.\n"
     ]
    }
   ],
   "source": [
    "# 1 Add two numbers\n",
    "\n",
    "num1: int = int(input(\"Enter first number: \"))\n",
    "num2: int = int(input(\"Enter second number: \"))\n",
    "\n",
    "sum: int = num1 + num2\n",
    "print(f\"The sum of num1 and num2 is {sum}\")\n",
    "\n"
   ]
  },
  {
   "cell_type": "code",
   "execution_count": 7,
   "metadata": {},
   "outputs": [
    {
     "name": "stdout",
     "output_type": "stream",
     "text": [
      "My favorite animal is also cat!\n"
     ]
    }
   ],
   "source": [
    "#2 Agreement Boot\n",
    "\n",
    "user_favorite_animal: str = input(\"What's your favorite animal?\")\n",
    "\n",
    "print(f\"My favorite animal is also {user_favorite_animal}!\")\n"
   ]
  },
  {
   "cell_type": "code",
   "execution_count": 10,
   "metadata": {},
   "outputs": [
    {
     "name": "stdout",
     "output_type": "stream",
     "text": [
      "Temperature: 50.0F = 10.0C\n"
     ]
    }
   ],
   "source": [
    "#3 Fahrenheit to Celsius\n",
    "\n",
    "degrees_fahrenheit: float = float(input(\"Enter temperature in fahrenheit\"))\n",
    "\n",
    "degrees_celsius: float = (degrees_fahrenheit - 32) * 5.0/9.0\n",
    "\n",
    "print(f\"Temperature: {degrees_fahrenheit}F = {degrees_celsius}C\")"
   ]
  },
  {
   "cell_type": "code",
   "execution_count": 11,
   "metadata": {},
   "outputs": [
    {
     "ename": "ValueError",
     "evalue": "invalid literal for int() with base 10: '23.5555'",
     "output_type": "error",
     "traceback": [
      "\u001b[1;31m---------------------------------------------------------------------------\u001b[0m",
      "\u001b[1;31mValueError\u001b[0m                                Traceback (most recent call last)",
      "Cell \u001b[1;32mIn[11], line 3\u001b[0m\n\u001b[0;32m      1\u001b[0m \u001b[38;5;66;03m#4 Triangle Perimeters\u001b[39;00m\n\u001b[1;32m----> 3\u001b[0m length1 \u001b[38;5;241m=\u001b[39m \u001b[38;5;28;43mint\u001b[39;49m\u001b[43m(\u001b[49m\u001b[38;5;28;43minput\u001b[39;49m\u001b[43m(\u001b[49m\u001b[38;5;124;43m\"\u001b[39;49m\u001b[38;5;124;43mWhat is the length of side 1? \u001b[39;49m\u001b[38;5;124;43m\"\u001b[39;49m\u001b[43m)\u001b[49m\u001b[43m)\u001b[49m\n\u001b[0;32m      4\u001b[0m length2 \u001b[38;5;241m=\u001b[39m \u001b[38;5;28mint\u001b[39m(\u001b[38;5;28minput\u001b[39m(\u001b[38;5;124m\"\u001b[39m\u001b[38;5;124mWhat is the length of side 1? \u001b[39m\u001b[38;5;124m\"\u001b[39m))\n\u001b[0;32m      5\u001b[0m length3 \u001b[38;5;241m=\u001b[39m \u001b[38;5;28mint\u001b[39m(\u001b[38;5;28minput\u001b[39m(\u001b[38;5;124m\"\u001b[39m\u001b[38;5;124mWhat is the length of side 1? \u001b[39m\u001b[38;5;124m\"\u001b[39m))\n",
      "\u001b[1;31mValueError\u001b[0m: invalid literal for int() with base 10: '23.5555'"
     ]
    }
   ],
   "source": [
    "#4 Triangle Perimeters\n",
    "\n",
    "length1 = float(input(\"What is the length of side 1? \"))\n",
    "length2 = float(input(\"What is the length of side 1? \"))\n",
    "length3 = float(input(\"What is the length of side 1? \"))\n",
    "\n",
    "perimeter: float = length1 + length2 + length3\n",
    "\n",
    "print(f\"The perimeter of the triangle is {perimeter}\")"
   ]
  }
 ],
 "metadata": {
  "kernelspec": {
   "display_name": "python3.12.4",
   "language": "python",
   "name": "python3"
  },
  "language_info": {
   "codemirror_mode": {
    "name": "ipython",
    "version": 3
   },
   "file_extension": ".py",
   "mimetype": "text/x-python",
   "name": "python",
   "nbconvert_exporter": "python",
   "pygments_lexer": "ipython3",
   "version": "3.12.4"
  }
 },
 "nbformat": 4,
 "nbformat_minor": 2
}
