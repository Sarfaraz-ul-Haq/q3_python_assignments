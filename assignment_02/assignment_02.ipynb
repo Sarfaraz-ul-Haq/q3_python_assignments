{
 "cells": [
  {
   "cell_type": "code",
   "execution_count": 1,
   "metadata": {},
   "outputs": [
    {
     "name": "stdout",
     "output_type": "stream",
     "text": [
      "The sum of num1 and num2 is 100\n"
     ]
    }
   ],
   "source": [
    "# 1 Add two numbers\n",
    "\n",
    "num1: int = int(input(\"Enter first number: \"))\n",
    "num2: int = int(input(\"Enter second number: \"))\n",
    "\n",
    "sum: int = num1 + num2\n",
    "print(f\"The sum of num1 and num2 is {sum}\")\n",
    "\n"
   ]
  },
  {
   "cell_type": "code",
   "execution_count": 2,
   "metadata": {},
   "outputs": [
    {
     "name": "stdout",
     "output_type": "stream",
     "text": [
      "My favorite animal is also cat!\n"
     ]
    }
   ],
   "source": [
    "#2 Agreement Boot\n",
    "\n",
    "user_favorite_animal: str = input(\"What's your favorite animal?\")\n",
    "\n",
    "print(f\"My favorite animal is also {user_favorite_animal}!\")\n"
   ]
  },
  {
   "cell_type": "code",
   "execution_count": 3,
   "metadata": {},
   "outputs": [
    {
     "name": "stdout",
     "output_type": "stream",
     "text": [
      "Temperature: 50.0F = 10.0C\n"
     ]
    }
   ],
   "source": [
    "#3 Fahrenheit to Celsius\n",
    "\n",
    "degrees_fahrenheit: float = float(input(\"Enter temperature in fahrenheit\"))\n",
    "\n",
    "degrees_celsius: float = (degrees_fahrenheit - 32) * 5.0/9.0\n",
    "\n",
    "print(f\"Temperature: {degrees_fahrenheit}F = {degrees_celsius}C\")"
   ]
  },
  {
   "cell_type": "code",
   "execution_count": 4,
   "metadata": {},
   "outputs": [
    {
     "name": "stdout",
     "output_type": "stream",
     "text": [
      "The perimeter of the triangle is 15.0\n"
     ]
    }
   ],
   "source": [
    "#4 Triangle Perimeters\n",
    "\n",
    "length1 = float(input(\"What is the length of side 1? \"))\n",
    "length2 = float(input(\"What is the length of side 2? \"))\n",
    "length3 = float(input(\"What is the length of side 3? \"))\n",
    "\n",
    "perimeter: float = length1 + length2 + length3\n",
    "\n",
    "print(f\"The perimeter of the triangle is {perimeter}\")"
   ]
  },
  {
   "cell_type": "code",
   "execution_count": 5,
   "metadata": {},
   "outputs": [
    {
     "name": "stdout",
     "output_type": "stream",
     "text": [
      "5.0 squared is 25.0\n"
     ]
    }
   ],
   "source": [
    "#5 Square Numbers\n",
    "\n",
    "user_number: float = float(input(\"Type a number to see its square: \"))\n",
    "\n",
    "print(f\"{user_number} squared is {user_number * user_number}\")"
   ]
  },
  {
   "cell_type": "code",
   "execution_count": 6,
   "metadata": {},
   "outputs": [
    {
     "name": "stdout",
     "output_type": "stream",
     "text": [
      "[1, 2, 4, 5]\n"
     ]
    }
   ],
   "source": [
    "#6 Delete a number\n",
    "\n",
    "numbers: list[int] = [1, 2, 3, 4, 5]\n",
    "\n",
    "del numbers[2] \n",
    "# OR\n",
    "# numbers.remove(3)\n",
    "\n",
    "\n",
    "print(numbers)\n"
   ]
  },
  {
   "cell_type": "code",
   "execution_count": 7,
   "metadata": {},
   "outputs": [
    {
     "name": "stdout",
     "output_type": "stream",
     "text": [
      "[1, 2, 3, 4, 5, 6]\n"
     ]
    }
   ],
   "source": [
    "#7 Creating a list\n",
    "\n",
    "list1: list[int] = [1, 2, 3]\n",
    "list2: list[int] = [4, 5, 6]\n",
    "\n",
    "list1.extend(list2)\n",
    "\n",
    "print(list1)"
   ]
  },
  {
   "cell_type": "code",
   "execution_count": 8,
   "metadata": {},
   "outputs": [
    {
     "name": "stdout",
     "output_type": "stream",
     "text": [
      "By using the pop method without any arguments, the last element of the list\n",
      "i.e 40 will be removed.\n",
      "\n",
      "Original list: [10, 20, 30, 40]\n",
      "\n",
      "List after using the pop method without any args: [10, 20, 30]\n"
     ]
    }
   ],
   "source": [
    "#8 Pop method\n",
    "\n",
    "items: list[int] = [10, 20, 30, 40]\n",
    "\n",
    "print(\n",
    "\"\"\"By using the pop method without any arguments, the last element of the list\n",
    "i.e 40 will be removed.\\n\"\"\"\n",
    ")\n",
    "\n",
    "print(f\"Original list: {items}\\n\") \n",
    "\n",
    "items.pop()\n",
    "print(f\"List after using the pop method without any args: {items}\")\n",
    "\n"
   ]
  },
  {
   "cell_type": "code",
   "execution_count": 9,
   "metadata": {},
   "outputs": [
    {
     "name": "stdout",
     "output_type": "stream",
     "text": [
      "The index of green is 2\n"
     ]
    }
   ],
   "source": [
    "#9 Index method\n",
    "\n",
    "colors: list[str] = ['red', 'blue', 'green', 'yellow']\n",
    "\n",
    "print(f\"The index of green is {colors.index(\"green\")}\")"
   ]
  },
  {
   "cell_type": "code",
   "execution_count": 10,
   "metadata": {},
   "outputs": [
    {
     "name": "stdout",
     "output_type": "stream",
     "text": [
      "The last element in the list is 10\n",
      "The last element in the list is grapes\n"
     ]
    }
   ],
   "source": [
    "#10 Get last element\n",
    "\n",
    "from typing import Any\n",
    "\n",
    "def get_last_element(lst: list[Any]) -> None:\n",
    "    index_of_last_element = len(lst) - 1\n",
    "    print(f\"The last element in the list is {lst[index_of_last_element]}\")\n",
    "\n",
    "get_last_element([1, 2, 3, 4, 5, 6, 7, 8, 9, 10])\n",
    "get_last_element([\"guava\", \"mango\", \"strawberries\", \"peach\", \"grapes\"])\n"
   ]
  },
  {
   "cell_type": "code",
   "execution_count": 11,
   "metadata": {},
   "outputs": [
    {
     "name": "stdout",
     "output_type": "stream",
     "text": [
      "Here's the list: ['5454', 'mango', 'guava', 'hello world']\n"
     ]
    }
   ],
   "source": [
    "#11 Get a list\n",
    "\n",
    "# my_list: list[str] = []\n",
    "\n",
    "# condition: bool = True\n",
    "\n",
    "# while condition:\n",
    "#     user_input: str = input(\"Enter a value: \")\n",
    "#     if user_input == \"\":\n",
    "#         condition = False\n",
    "#     else:\n",
    "#         my_list.append(user_input)\n",
    "\n",
    "# print(f\"Here's the list: {my_list}\")\n",
    "\n",
    "# _____________OR_____________\n",
    "\n",
    "my_list: list[str] = []\n",
    "\n",
    "while True:\n",
    "    user_input: str = input(\"Enter a value: \")\n",
    "    if user_input == \"\":\n",
    "         break\n",
    "    else:\n",
    "         my_list.append(user_input)\n",
    "\n",
    "print(f\"Here's the list: {my_list}\")\n",
    "\n",
    "    "
   ]
  }
 ],
 "metadata": {
  "kernelspec": {
   "display_name": "python3.12.4",
   "language": "python",
   "name": "python3"
  },
  "language_info": {
   "codemirror_mode": {
    "name": "ipython",
    "version": 3
   },
   "file_extension": ".py",
   "mimetype": "text/x-python",
   "name": "python",
   "nbconvert_exporter": "python",
   "pygments_lexer": "ipython3",
   "version": "3.12.4"
  }
 },
 "nbformat": 4,
 "nbformat_minor": 2
}
