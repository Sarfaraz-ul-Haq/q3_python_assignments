{
 "cells": [
  {
   "cell_type": "code",
   "execution_count": 1,
   "metadata": {},
   "outputs": [
    {
     "name": "stdout",
     "output_type": "stream",
     "text": [
      "\n",
      "anton is 21\n",
      "beth is 27\n",
      "chen is 47\n",
      "drew is 41\n",
      "ethan is 20\n"
     ]
    }
   ],
   "source": [
    "#1 Age Assignments Based on the Riddle \n",
    "\n",
    "anton: int = 21\n",
    "beth: int = 27\n",
    "chen: int = 47\n",
    "drew: int = 41\n",
    "ethan: int = 20\n",
    "\n",
    "print(f'''\n",
    "anton is {anton}\n",
    "beth is {beth}\n",
    "chen is {chen}\n",
    "drew is {drew}\n",
    "ethan is {ethan}''')\n"
   ]
  },
  {
   "cell_type": "code",
   "execution_count": 2,
   "metadata": {},
   "outputs": [
    {
     "name": "stdout",
     "output_type": "stream",
     "text": [
      "Alice is 30 years old and lives in New York\n"
     ]
    }
   ],
   "source": [
    "#2 Formatted String Interpolation\n",
    "\n",
    "name: str = 'Alice'\n",
    "age: int = 30\n",
    "city: str = 'New York'\n",
    "\n",
    "print(f'{name} is {age} years old and lives in {city}.')"
   ]
  },
  {
   "cell_type": "code",
   "execution_count": 6,
   "metadata": {},
   "outputs": [
    {
     "name": "stdout",
     "output_type": "stream",
     "text": [
      "Hello world\n",
      "HELLO WORLD\n",
      "hello world\n"
     ]
    }
   ],
   "source": [
    "#3 String Manipulation\n",
    "\n",
    "s: str = 'hElLo WoRlD'\n",
    "\n",
    "print(s.capitalize())\n",
    "print(s.upper())\n",
    "print(s.lower())\n"
   ]
  },
  {
   "cell_type": "code",
   "execution_count": 14,
   "metadata": {},
   "outputs": [
    {
     "name": "stdout",
     "output_type": "stream",
     "text": [
      "index of fox is 16\n",
      "the appears 2\n"
     ]
    }
   ],
   "source": [
    "#4 Substring Search\n",
    "\n",
    "s: str = 'the quick brown fox jumps over the lazy dog'\n",
    "\n",
    "print(f\"index of 'fox' is {s.index('fox')}\")\n",
    "print(f\"'the' appears {s.count('the')}\")"
   ]
  },
  {
   "cell_type": "code",
   "execution_count": 17,
   "metadata": {},
   "outputs": [
    {
     "name": "stdout",
     "output_type": "stream",
     "text": [
      "I love programming in Java\n"
     ]
    }
   ],
   "source": [
    "#5 String Replacement\n",
    "\n",
    "s: str = 'I love programming in Python'\n",
    "\n",
    "s = s.replace('Python', 'Java')\n",
    "\n",
    "print(s)"
   ]
  },
  {
   "cell_type": "code",
   "execution_count": 27,
   "metadata": {},
   "outputs": [
    {
     "name": "stdout",
     "output_type": "stream",
     "text": [
      "['apple', 'banana', 'cherry', 'dates']\n",
      "apple banana cherry dates\n"
     ]
    }
   ],
   "source": [
    "#6 String Splitting and Joining\n",
    "\n",
    "s: str = 'apple,banana,cherry,dates'\n",
    "\n",
    "s = s.split(',')\n",
    "print(s)\n",
    "\n",
    "print(' '.join(s))\n"
   ]
  },
  {
   "cell_type": "code",
   "execution_count": 39,
   "metadata": {},
   "outputs": [
    {
     "name": "stdout",
     "output_type": "stream",
     "text": [
      "Python is fun!\n",
      "Python is fun!******\n",
      "*******Python is fun\n"
     ]
    }
   ],
   "source": [
    "#7 String Stripping and Justifying \n",
    "\n",
    "s: str = '   Python is fun!   '\n",
    "\n",
    "s = s.strip()\n",
    "print(s)\n",
    "\n",
    "s = s.ljust(20, '*')\n",
    "print(s)\n",
    "\n",
    "#_____________\n",
    "\n",
    "s = 'Python is fun'\n",
    "\n",
    "s = s.rjust(20, '*')\n",
    "print(s)\n",
    "\n"
   ]
  },
  {
   "cell_type": "code",
   "execution_count": 26,
   "metadata": {},
   "outputs": [
    {
     "name": "stdout",
     "output_type": "stream",
     "text": [
      "Binary representation: 0b101101\n"
     ]
    }
   ],
   "source": [
    "#8 Convert an integer to its binary representation\n",
    "\n",
    "num: int = 45\n",
    "print(f'Binary representation: {bin(num)}')"
   ]
  },
  {
   "cell_type": "code",
   "execution_count": 16,
   "metadata": {},
   "outputs": [
    {
     "name": "stdout",
     "output_type": "stream",
     "text": [
      "Power result 81\n"
     ]
    }
   ],
   "source": [
    "#9 Calculate Powers of Numbers\n",
    "\n",
    "base: int = 3\n",
    "exponent: int = 4\n",
    "\n",
    "print(f'Power result {base ** exponent}') \n"
   ]
  },
  {
   "cell_type": "code",
   "execution_count": 27,
   "metadata": {},
   "outputs": [
    {
     "name": "stdout",
     "output_type": "stream",
     "text": [
      "Rounded to nearest integer: 12\n",
      "Rounded to two decimal places: 12.35\n"
     ]
    }
   ],
   "source": [
    "#10 Round floating-point numbers\n",
    "\n",
    "value: float = 12.34567\n",
    "\n",
    "print(f'Rounded to nearest integer: {round(value)}')\n",
    "print(f'Rounded to two decimal places: {round(value, 2)}') "
   ]
  }
 ],
 "metadata": {
  "kernelspec": {
   "display_name": "python3.12.4",
   "language": "python",
   "name": "python3"
  },
  "language_info": {
   "codemirror_mode": {
    "name": "ipython",
    "version": 3
   },
   "file_extension": ".py",
   "mimetype": "text/x-python",
   "name": "python",
   "nbconvert_exporter": "python",
   "pygments_lexer": "ipython3",
   "version": "3.12.4"
  }
 },
 "nbformat": 4,
 "nbformat_minor": 2
}
